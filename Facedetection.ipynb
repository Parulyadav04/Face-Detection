{
 "cells": [
  {
   "cell_type": "code",
   "execution_count": 1,
   "id": "54903680-85b6-4dd9-a983-db39c4046fef",
   "metadata": {},
   "outputs": [],
   "source": [
    "import cv2"
   ]
  },
  {
   "cell_type": "code",
   "execution_count": 2,
   "id": "2696ab6d-5bf4-4a03-91a0-dfc06ce415b5",
   "metadata": {},
   "outputs": [],
   "source": [
    "face_cap=cv2.CascadeClassifier(\"C:/Python311/Lib/site-packages/cv2/data/haarcascade_frontalface_default.xml\")\n",
    "video_cap = cv2.VideoCapture(0)\n",
    "while True:\n",
    "    ret , video_capture = video_cap.read()\n",
    "    color = cv2.cvtColor(video_capture,cv2.COLOR_BGR2GRAY)\n",
    "    faces = face_cap.detectMultiScale(\n",
    "              color,\n",
    "              scaleFactor = 1.1,\n",
    "              minNeighbors=5,\n",
    "              minSize=(30, 30),\n",
    "              flags = cv2.CASCADE_SCALE_IMAGE\n",
    "    )\n",
    "    for(x,y,w,h) in faces:\n",
    "        cv2.rectangle(video_capture, (x,y),(x+w,y+h),(0,225,0),2)\n",
    "    cv2.imshow(\"Face_detection\", video_capture)\n",
    "    if cv2.waitKey(10) == ord(\"p\"):\n",
    "       break\n",
    "video_cap.release()\n",
    "    "
   ]
  }
 ],
 "metadata": {
  "kernelspec": {
   "display_name": "Python 3 (ipykernel)",
   "language": "python",
   "name": "python3"
  },
  "language_info": {
   "codemirror_mode": {
    "name": "ipython",
    "version": 3
   },
   "file_extension": ".py",
   "mimetype": "text/x-python",
   "name": "python",
   "nbconvert_exporter": "python",
   "pygments_lexer": "ipython3",
   "version": "3.11.8"
  }
 },
 "nbformat": 4,
 "nbformat_minor": 5
}
